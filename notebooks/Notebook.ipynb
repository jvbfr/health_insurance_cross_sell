{
 "cells": [
  {
   "cell_type": "markdown",
   "id": "continuing-proposal",
   "metadata": {},
   "source": [
    "# 0.0 Imports"
   ]
  },
  {
   "cell_type": "code",
   "execution_count": 1,
   "id": "adaptive-insured",
   "metadata": {
    "execution": {
     "iopub.execute_input": "2021-02-18T02:48:33.140840Z",
     "iopub.status.busy": "2021-02-18T02:48:33.140504Z",
     "iopub.status.idle": "2021-02-18T02:48:34.173935Z",
     "shell.execute_reply": "2021-02-18T02:48:34.173508Z",
     "shell.execute_reply.started": "2021-02-18T02:48:33.140732Z"
    }
   },
   "outputs": [],
   "source": [
    "import pandas            as pd\n",
    "import numpy             as np\n",
    "import matplotlib.pyplot as plt\n",
    "import seaborn           as sns\n",
    "import plotly.express    as px\n",
    "\n",
    "from IPython.display       import Image\n",
    "from IPython.core.display  import HTML"
   ]
  },
  {
   "cell_type": "markdown",
   "id": "satisfied-witness",
   "metadata": {},
   "source": [
    "## 0.1 Helper Functions"
   ]
  },
  {
   "cell_type": "code",
   "execution_count": 2,
   "id": "artistic-kingdom",
   "metadata": {
    "execution": {
     "iopub.execute_input": "2021-02-18T02:48:34.174705Z",
     "iopub.status.busy": "2021-02-18T02:48:34.174600Z",
     "iopub.status.idle": "2021-02-18T02:48:34.187947Z",
     "shell.execute_reply": "2021-02-18T02:48:34.187541Z",
     "shell.execute_reply.started": "2021-02-18T02:48:34.174691Z"
    }
   },
   "outputs": [],
   "source": [
    "def jupyter_settings():\n",
    "    %matplotlib inline\n",
    "    %pylab inline\n",
    "    \n",
    "    plt.style.use( 'fivethirtyeight' )\n",
    "    plt.rcParams['figure.figsize'] = [20, 8]\n",
    "    plt.rcParams['font.size'] = 24\n",
    "    plt.rcParams['font.family'] = 'serif'\n",
    "    plt.rcParams['font.serif'] = 'Ubuntu'\n",
    "    plt.rcParams['font.monospace'] = 'Ubuntu Mono'\n",
    "    plt.rcParams['font.size'] = 12\n",
    "    plt.rcParams['axes.labelsize'] = 14\n",
    "    plt.rcParams['axes.labelweight'] = 'bold'\n",
    "    plt.rcParams['axes.titlesize'] = 15\n",
    "    plt.rcParams['xtick.labelsize'] = 10\n",
    "    plt.rcParams['ytick.labelsize'] = 10\n",
    "    plt.rcParams['legend.fontsize'] = 12\n",
    "    plt.rcParams['figure.titlesize'] = 12\n",
    "    \n",
    "    display( HTML( '<style>.container { width:70% !important; }</style>') )\n",
    "    pd.options.display.max_columns = None\n",
    "    pd.options.display.max_rows = None\n",
    "    pd.set_option( 'display.expand_frame_repr', False )\n",
    "    \n",
    "    #sns.set()\n",
    "    sns.set_style('ticks')\n",
    "    \n",
    "\n",
    "def get_summary(numerical_attributes):\n",
    "    \n",
    "    # Central Tendency - mean, meadina \n",
    "    ct1 = pd.DataFrame( numerical_attributes.apply( np.mean ) ).T\n",
    "    ct2 = pd.DataFrame( numerical_attributes.apply( np.median ) ).T\n",
    "\n",
    "    # dispersion - std, min, max, range, skew, kurtosis\n",
    "    d1 = pd.DataFrame( numerical_attributes.apply( np.std ) ).T \n",
    "    d2 = pd.DataFrame( numerical_attributes.apply( min ) ).T \n",
    "    d3 = pd.DataFrame( numerical_attributes.apply( max ) ).T \n",
    "    d4 = pd.DataFrame( numerical_attributes.apply( lambda x: x.max() - x.min() ) ).T \n",
    "    d5 = pd.DataFrame( numerical_attributes.apply( lambda x: x.skew() ) ).T \n",
    "    d6 = pd.DataFrame( numerical_attributes.apply( lambda x: x.kurtosis() ) ).T \n",
    "\n",
    "    # concatenar\n",
    "    m = pd.concat( [d2, d3, d4, ct1, ct2, d1, d5, d6] ).T.reset_index()\n",
    "    m.columns = ['attributes', 'min', 'max', 'range', 'mean', 'median', 'std', 'skew', 'kurtosis']\n",
    "    \n",
    "    return m\n",
    "\n"
   ]
  },
  {
   "cell_type": "code",
   "execution_count": 3,
   "id": "following-upper",
   "metadata": {
    "execution": {
     "iopub.execute_input": "2021-02-18T02:48:34.188958Z",
     "iopub.status.busy": "2021-02-18T02:48:34.188855Z",
     "iopub.status.idle": "2021-02-18T02:48:34.195394Z",
     "shell.execute_reply": "2021-02-18T02:48:34.195071Z",
     "shell.execute_reply.started": "2021-02-18T02:48:34.188945Z"
    }
   },
   "outputs": [
    {
     "name": "stdout",
     "output_type": "stream",
     "text": [
      "Populating the interactive namespace from numpy and matplotlib\n"
     ]
    },
    {
     "data": {
      "text/html": [
       "<style>.container { width:70% !important; }</style>"
      ],
      "text/plain": [
       "<IPython.core.display.HTML object>"
      ]
     },
     "metadata": {},
     "output_type": "display_data"
    }
   ],
   "source": [
    "jupyter_settings()"
   ]
  },
  {
   "cell_type": "markdown",
   "id": "affected-joshua",
   "metadata": {},
   "source": [
    "## 0.2 Load Data"
   ]
  },
  {
   "cell_type": "code",
   "execution_count": 4,
   "id": "liable-makeup",
   "metadata": {
    "execution": {
     "iopub.execute_input": "2021-02-18T02:48:34.196247Z",
     "iopub.status.busy": "2021-02-18T02:48:34.196115Z",
     "iopub.status.idle": "2021-02-18T02:48:34.396093Z",
     "shell.execute_reply": "2021-02-18T02:48:34.395698Z",
     "shell.execute_reply.started": "2021-02-18T02:48:34.196233Z"
    }
   },
   "outputs": [],
   "source": [
    "df = pd.read_csv('../data/raw/train.csv')"
   ]
  },
  {
   "cell_type": "markdown",
   "id": "native-summary",
   "metadata": {},
   "source": [
    "# 1.0 Data Description"
   ]
  },
  {
   "cell_type": "code",
   "execution_count": 5,
   "id": "suspected-welcome",
   "metadata": {
    "execution": {
     "iopub.execute_input": "2021-02-18T02:48:34.396775Z",
     "iopub.status.busy": "2021-02-18T02:48:34.396665Z",
     "iopub.status.idle": "2021-02-18T02:48:34.407905Z",
     "shell.execute_reply": "2021-02-18T02:48:34.407375Z",
     "shell.execute_reply.started": "2021-02-18T02:48:34.396762Z"
    }
   },
   "outputs": [],
   "source": [
    "df1 = df.copy()"
   ]
  },
  {
   "cell_type": "code",
   "execution_count": 6,
   "id": "classical-channel",
   "metadata": {
    "execution": {
     "iopub.execute_input": "2021-02-18T02:48:34.408679Z",
     "iopub.status.busy": "2021-02-18T02:48:34.408567Z",
     "iopub.status.idle": "2021-02-18T02:48:34.411238Z",
     "shell.execute_reply": "2021-02-18T02:48:34.410865Z",
     "shell.execute_reply.started": "2021-02-18T02:48:34.408664Z"
    }
   },
   "outputs": [],
   "source": [
    "df1.columns = map(str.lower, df1.columns)"
   ]
  },
  {
   "cell_type": "code",
   "execution_count": 7,
   "id": "useful-guidance",
   "metadata": {
    "execution": {
     "iopub.execute_input": "2021-02-18T02:48:34.412020Z",
     "iopub.status.busy": "2021-02-18T02:48:34.411902Z",
     "iopub.status.idle": "2021-02-18T02:48:34.428077Z",
     "shell.execute_reply": "2021-02-18T02:48:34.427523Z",
     "shell.execute_reply.started": "2021-02-18T02:48:34.412004Z"
    }
   },
   "outputs": [
    {
     "data": {
      "text/html": [
       "<div>\n",
       "<style scoped>\n",
       "    .dataframe tbody tr th:only-of-type {\n",
       "        vertical-align: middle;\n",
       "    }\n",
       "\n",
       "    .dataframe tbody tr th {\n",
       "        vertical-align: top;\n",
       "    }\n",
       "\n",
       "    .dataframe thead th {\n",
       "        text-align: right;\n",
       "    }\n",
       "</style>\n",
       "<table border=\"1\" class=\"dataframe\">\n",
       "  <thead>\n",
       "    <tr style=\"text-align: right;\">\n",
       "      <th></th>\n",
       "      <th>id</th>\n",
       "      <th>gender</th>\n",
       "      <th>age</th>\n",
       "      <th>driving_license</th>\n",
       "      <th>region_code</th>\n",
       "      <th>previously_insured</th>\n",
       "      <th>vehicle_age</th>\n",
       "      <th>vehicle_damage</th>\n",
       "      <th>annual_premium</th>\n",
       "      <th>policy_sales_channel</th>\n",
       "      <th>vintage</th>\n",
       "      <th>response</th>\n",
       "    </tr>\n",
       "  </thead>\n",
       "  <tbody>\n",
       "    <tr>\n",
       "      <th>0</th>\n",
       "      <td>1</td>\n",
       "      <td>Male</td>\n",
       "      <td>44</td>\n",
       "      <td>1</td>\n",
       "      <td>28.0</td>\n",
       "      <td>0</td>\n",
       "      <td>&gt; 2 Years</td>\n",
       "      <td>Yes</td>\n",
       "      <td>40454.0</td>\n",
       "      <td>26.0</td>\n",
       "      <td>217</td>\n",
       "      <td>1</td>\n",
       "    </tr>\n",
       "    <tr>\n",
       "      <th>1</th>\n",
       "      <td>2</td>\n",
       "      <td>Male</td>\n",
       "      <td>76</td>\n",
       "      <td>1</td>\n",
       "      <td>3.0</td>\n",
       "      <td>0</td>\n",
       "      <td>1-2 Year</td>\n",
       "      <td>No</td>\n",
       "      <td>33536.0</td>\n",
       "      <td>26.0</td>\n",
       "      <td>183</td>\n",
       "      <td>0</td>\n",
       "    </tr>\n",
       "    <tr>\n",
       "      <th>2</th>\n",
       "      <td>3</td>\n",
       "      <td>Male</td>\n",
       "      <td>47</td>\n",
       "      <td>1</td>\n",
       "      <td>28.0</td>\n",
       "      <td>0</td>\n",
       "      <td>&gt; 2 Years</td>\n",
       "      <td>Yes</td>\n",
       "      <td>38294.0</td>\n",
       "      <td>26.0</td>\n",
       "      <td>27</td>\n",
       "      <td>1</td>\n",
       "    </tr>\n",
       "    <tr>\n",
       "      <th>3</th>\n",
       "      <td>4</td>\n",
       "      <td>Male</td>\n",
       "      <td>21</td>\n",
       "      <td>1</td>\n",
       "      <td>11.0</td>\n",
       "      <td>1</td>\n",
       "      <td>&lt; 1 Year</td>\n",
       "      <td>No</td>\n",
       "      <td>28619.0</td>\n",
       "      <td>152.0</td>\n",
       "      <td>203</td>\n",
       "      <td>0</td>\n",
       "    </tr>\n",
       "    <tr>\n",
       "      <th>4</th>\n",
       "      <td>5</td>\n",
       "      <td>Female</td>\n",
       "      <td>29</td>\n",
       "      <td>1</td>\n",
       "      <td>41.0</td>\n",
       "      <td>1</td>\n",
       "      <td>&lt; 1 Year</td>\n",
       "      <td>No</td>\n",
       "      <td>27496.0</td>\n",
       "      <td>152.0</td>\n",
       "      <td>39</td>\n",
       "      <td>0</td>\n",
       "    </tr>\n",
       "    <tr>\n",
       "      <th>5</th>\n",
       "      <td>6</td>\n",
       "      <td>Female</td>\n",
       "      <td>24</td>\n",
       "      <td>1</td>\n",
       "      <td>33.0</td>\n",
       "      <td>0</td>\n",
       "      <td>&lt; 1 Year</td>\n",
       "      <td>Yes</td>\n",
       "      <td>2630.0</td>\n",
       "      <td>160.0</td>\n",
       "      <td>176</td>\n",
       "      <td>0</td>\n",
       "    </tr>\n",
       "    <tr>\n",
       "      <th>6</th>\n",
       "      <td>7</td>\n",
       "      <td>Male</td>\n",
       "      <td>23</td>\n",
       "      <td>1</td>\n",
       "      <td>11.0</td>\n",
       "      <td>0</td>\n",
       "      <td>&lt; 1 Year</td>\n",
       "      <td>Yes</td>\n",
       "      <td>23367.0</td>\n",
       "      <td>152.0</td>\n",
       "      <td>249</td>\n",
       "      <td>0</td>\n",
       "    </tr>\n",
       "    <tr>\n",
       "      <th>7</th>\n",
       "      <td>8</td>\n",
       "      <td>Female</td>\n",
       "      <td>56</td>\n",
       "      <td>1</td>\n",
       "      <td>28.0</td>\n",
       "      <td>0</td>\n",
       "      <td>1-2 Year</td>\n",
       "      <td>Yes</td>\n",
       "      <td>32031.0</td>\n",
       "      <td>26.0</td>\n",
       "      <td>72</td>\n",
       "      <td>1</td>\n",
       "    </tr>\n",
       "    <tr>\n",
       "      <th>8</th>\n",
       "      <td>9</td>\n",
       "      <td>Female</td>\n",
       "      <td>24</td>\n",
       "      <td>1</td>\n",
       "      <td>3.0</td>\n",
       "      <td>1</td>\n",
       "      <td>&lt; 1 Year</td>\n",
       "      <td>No</td>\n",
       "      <td>27619.0</td>\n",
       "      <td>152.0</td>\n",
       "      <td>28</td>\n",
       "      <td>0</td>\n",
       "    </tr>\n",
       "    <tr>\n",
       "      <th>9</th>\n",
       "      <td>10</td>\n",
       "      <td>Female</td>\n",
       "      <td>32</td>\n",
       "      <td>1</td>\n",
       "      <td>6.0</td>\n",
       "      <td>1</td>\n",
       "      <td>&lt; 1 Year</td>\n",
       "      <td>No</td>\n",
       "      <td>28771.0</td>\n",
       "      <td>152.0</td>\n",
       "      <td>80</td>\n",
       "      <td>0</td>\n",
       "    </tr>\n",
       "  </tbody>\n",
       "</table>\n",
       "</div>"
      ],
      "text/plain": [
       "   id  gender  age  driving_license  region_code  previously_insured vehicle_age vehicle_damage  annual_premium  policy_sales_channel  vintage  response\n",
       "0   1    Male   44                1         28.0                   0   > 2 Years            Yes         40454.0                  26.0      217         1\n",
       "1   2    Male   76                1          3.0                   0    1-2 Year             No         33536.0                  26.0      183         0\n",
       "2   3    Male   47                1         28.0                   0   > 2 Years            Yes         38294.0                  26.0       27         1\n",
       "3   4    Male   21                1         11.0                   1    < 1 Year             No         28619.0                 152.0      203         0\n",
       "4   5  Female   29                1         41.0                   1    < 1 Year             No         27496.0                 152.0       39         0\n",
       "5   6  Female   24                1         33.0                   0    < 1 Year            Yes          2630.0                 160.0      176         0\n",
       "6   7    Male   23                1         11.0                   0    < 1 Year            Yes         23367.0                 152.0      249         0\n",
       "7   8  Female   56                1         28.0                   0    1-2 Year            Yes         32031.0                  26.0       72         1\n",
       "8   9  Female   24                1          3.0                   1    < 1 Year             No         27619.0                 152.0       28         0\n",
       "9  10  Female   32                1          6.0                   1    < 1 Year             No         28771.0                 152.0       80         0"
      ]
     },
     "execution_count": 7,
     "metadata": {},
     "output_type": "execute_result"
    }
   ],
   "source": [
    "df1.head(10)"
   ]
  },
  {
   "cell_type": "code",
   "execution_count": 8,
   "id": "exclusive-summary",
   "metadata": {
    "execution": {
     "iopub.execute_input": "2021-02-18T02:48:34.430889Z",
     "iopub.status.busy": "2021-02-18T02:48:34.430632Z",
     "iopub.status.idle": "2021-02-18T02:48:34.435030Z",
     "shell.execute_reply": "2021-02-18T02:48:34.434529Z",
     "shell.execute_reply.started": "2021-02-18T02:48:34.430856Z"
    }
   },
   "outputs": [
    {
     "name": "stdout",
     "output_type": "stream",
     "text": [
      "Number of Rows: 381109\n",
      "Number of Cols: 12\n"
     ]
    }
   ],
   "source": [
    "print( 'Number of Rows: {}'.format( df1.shape[0] ) )\n",
    "print( 'Number of Cols: {}'.format( df1.shape[1] ) )"
   ]
  },
  {
   "cell_type": "code",
   "execution_count": 9,
   "id": "pointed-closure",
   "metadata": {
    "execution": {
     "iopub.execute_input": "2021-02-18T02:48:34.436407Z",
     "iopub.status.busy": "2021-02-18T02:48:34.436232Z",
     "iopub.status.idle": "2021-02-18T02:48:34.490940Z",
     "shell.execute_reply": "2021-02-18T02:48:34.490441Z",
     "shell.execute_reply.started": "2021-02-18T02:48:34.436384Z"
    }
   },
   "outputs": [
    {
     "name": "stdout",
     "output_type": "stream",
     "text": [
      "<class 'pandas.core.frame.DataFrame'>\n",
      "RangeIndex: 381109 entries, 0 to 381108\n",
      "Data columns (total 12 columns):\n",
      " #   Column                Non-Null Count   Dtype  \n",
      "---  ------                --------------   -----  \n",
      " 0   id                    381109 non-null  int64  \n",
      " 1   Gender                381109 non-null  object \n",
      " 2   Age                   381109 non-null  int64  \n",
      " 3   Driving_License       381109 non-null  int64  \n",
      " 4   Region_Code           381109 non-null  float64\n",
      " 5   Previously_Insured    381109 non-null  int64  \n",
      " 6   Vehicle_Age           381109 non-null  object \n",
      " 7   Vehicle_Damage        381109 non-null  object \n",
      " 8   Annual_Premium        381109 non-null  float64\n",
      " 9   Policy_Sales_Channel  381109 non-null  float64\n",
      " 10  Vintage               381109 non-null  int64  \n",
      " 11  Response              381109 non-null  int64  \n",
      "dtypes: float64(3), int64(6), object(3)\n",
      "memory usage: 34.9+ MB\n"
     ]
    }
   ],
   "source": [
    "df.info()"
   ]
  },
  {
   "cell_type": "code",
   "execution_count": 10,
   "id": "deluxe-prime",
   "metadata": {
    "execution": {
     "iopub.execute_input": "2021-02-18T02:48:34.491874Z",
     "iopub.status.busy": "2021-02-18T02:48:34.491711Z",
     "iopub.status.idle": "2021-02-18T02:48:34.651448Z",
     "shell.execute_reply": "2021-02-18T02:48:34.651085Z",
     "shell.execute_reply.started": "2021-02-18T02:48:34.491852Z"
    }
   },
   "outputs": [],
   "source": [
    "cons = pd.DataFrame({'colunas' : df.columns,\n",
    "                    'tipo': df.dtypes,\n",
    "                    'missing' : df.isna().sum(),\n",
    "                    'size' : df.shape[0],\n",
    "                    'unicos': df.nunique()})\n",
    "\n",
    "cons['percentual'] = round(cons['missing'] / cons['size'],2)"
   ]
  },
  {
   "cell_type": "code",
   "execution_count": 11,
   "id": "interim-matthew",
   "metadata": {
    "execution": {
     "iopub.execute_input": "2021-02-18T02:48:34.652343Z",
     "iopub.status.busy": "2021-02-18T02:48:34.652189Z",
     "iopub.status.idle": "2021-02-18T02:48:34.775007Z",
     "shell.execute_reply": "2021-02-18T02:48:34.774652Z",
     "shell.execute_reply.started": "2021-02-18T02:48:34.652323Z"
    }
   },
   "outputs": [
    {
     "data": {
      "image/png": "[encoded data removed]",
      "text/plain": [
       "<Figure size 1440x576 with 1 Axes>"
      ]
     },
     "metadata": {},
     "output_type": "display_data"
    }
   ],
   "source": [
    "cons.percentual.plot.hist( bins = 5);"
   ]
  },
  {
   "cell_type": "code",
   "execution_count": 12,
   "id": "alien-explanation",
   "metadata": {
    "execution": {
     "iopub.execute_input": "2021-02-18T02:48:34.775716Z",
     "iopub.status.busy": "2021-02-18T02:48:34.775609Z",
     "iopub.status.idle": "2021-02-18T02:48:34.790463Z",
     "shell.execute_reply": "2021-02-18T02:48:34.789997Z",
     "shell.execute_reply.started": "2021-02-18T02:48:34.775702Z"
    }
   },
   "outputs": [],
   "source": [
    "num_attributes = df1.select_dtypes( include = [ 'int64', 'float64'] )\n",
    "cat_attributes = df1.select_dtypes( exclude=['int64', 'float64', 'datetime64[ns]'] )"
   ]
  },
  {
   "cell_type": "markdown",
   "id": "distinguished-expansion",
   "metadata": {},
   "source": [
    "## 1.1 Numerical Attributes"
   ]
  },
  {
   "cell_type": "code",
   "execution_count": 13,
   "id": "right-boating",
   "metadata": {
    "execution": {
     "iopub.execute_input": "2021-02-18T02:48:34.791165Z",
     "iopub.status.busy": "2021-02-18T02:48:34.790990Z",
     "iopub.status.idle": "2021-02-18T02:48:35.591092Z",
     "shell.execute_reply": "2021-02-18T02:48:35.590652Z",
     "shell.execute_reply.started": "2021-02-18T02:48:34.791149Z"
    }
   },
   "outputs": [
    {
     "data": {
      "text/html": [
       "<div>\n",
       "<style scoped>\n",
       "    .dataframe tbody tr th:only-of-type {\n",
       "        vertical-align: middle;\n",
       "    }\n",
       "\n",
       "    .dataframe tbody tr th {\n",
       "        vertical-align: top;\n",
       "    }\n",
       "\n",
       "    .dataframe thead th {\n",
       "        text-align: right;\n",
       "    }\n",
       "</style>\n",
       "<table border=\"1\" class=\"dataframe\">\n",
       "  <thead>\n",
       "    <tr style=\"text-align: right;\">\n",
       "      <th></th>\n",
       "      <th>attributes</th>\n",
       "      <th>min</th>\n",
       "      <th>max</th>\n",
       "      <th>range</th>\n",
       "      <th>mean</th>\n",
       "      <th>median</th>\n",
       "      <th>std</th>\n",
       "      <th>skew</th>\n",
       "      <th>kurtosis</th>\n",
       "    </tr>\n",
       "  </thead>\n",
       "  <tbody>\n",
       "    <tr>\n",
       "      <th>0</th>\n",
       "      <td>id</td>\n",
       "      <td>1.0</td>\n",
       "      <td>381109.0</td>\n",
       "      <td>381108.0</td>\n",
       "      <td>190555.000000</td>\n",
       "      <td>190555.0</td>\n",
       "      <td>110016.691870</td>\n",
       "      <td>9.443274e-16</td>\n",
       "      <td>-1.200000</td>\n",
       "    </tr>\n",
       "    <tr>\n",
       "      <th>1</th>\n",
       "      <td>age</td>\n",
       "      <td>20.0</td>\n",
       "      <td>85.0</td>\n",
       "      <td>65.0</td>\n",
       "      <td>38.822584</td>\n",
       "      <td>36.0</td>\n",
       "      <td>15.511591</td>\n",
       "      <td>6.725390e-01</td>\n",
       "      <td>-0.565655</td>\n",
       "    </tr>\n",
       "    <tr>\n",
       "      <th>2</th>\n",
       "      <td>driving_license</td>\n",
       "      <td>0.0</td>\n",
       "      <td>1.0</td>\n",
       "      <td>1.0</td>\n",
       "      <td>0.997869</td>\n",
       "      <td>1.0</td>\n",
       "      <td>0.046109</td>\n",
       "      <td>-2.159518e+01</td>\n",
       "      <td>464.354302</td>\n",
       "    </tr>\n",
       "    <tr>\n",
       "      <th>3</th>\n",
       "      <td>region_code</td>\n",
       "      <td>0.0</td>\n",
       "      <td>52.0</td>\n",
       "      <td>52.0</td>\n",
       "      <td>26.388807</td>\n",
       "      <td>28.0</td>\n",
       "      <td>13.229871</td>\n",
       "      <td>-1.152664e-01</td>\n",
       "      <td>-0.867857</td>\n",
       "    </tr>\n",
       "    <tr>\n",
       "      <th>4</th>\n",
       "      <td>previously_insured</td>\n",
       "      <td>0.0</td>\n",
       "      <td>1.0</td>\n",
       "      <td>1.0</td>\n",
       "      <td>0.458210</td>\n",
       "      <td>0.0</td>\n",
       "      <td>0.498251</td>\n",
       "      <td>1.677471e-01</td>\n",
       "      <td>-1.971871</td>\n",
       "    </tr>\n",
       "    <tr>\n",
       "      <th>5</th>\n",
       "      <td>annual_premium</td>\n",
       "      <td>2630.0</td>\n",
       "      <td>540165.0</td>\n",
       "      <td>537535.0</td>\n",
       "      <td>30564.389581</td>\n",
       "      <td>31669.0</td>\n",
       "      <td>17213.132474</td>\n",
       "      <td>1.766087e+00</td>\n",
       "      <td>34.004569</td>\n",
       "    </tr>\n",
       "    <tr>\n",
       "      <th>6</th>\n",
       "      <td>policy_sales_channel</td>\n",
       "      <td>1.0</td>\n",
       "      <td>163.0</td>\n",
       "      <td>162.0</td>\n",
       "      <td>112.034295</td>\n",
       "      <td>133.0</td>\n",
       "      <td>54.203924</td>\n",
       "      <td>-9.000081e-01</td>\n",
       "      <td>-0.970810</td>\n",
       "    </tr>\n",
       "    <tr>\n",
       "      <th>7</th>\n",
       "      <td>vintage</td>\n",
       "      <td>10.0</td>\n",
       "      <td>299.0</td>\n",
       "      <td>289.0</td>\n",
       "      <td>154.347397</td>\n",
       "      <td>154.0</td>\n",
       "      <td>83.671194</td>\n",
       "      <td>3.029517e-03</td>\n",
       "      <td>-1.200688</td>\n",
       "    </tr>\n",
       "    <tr>\n",
       "      <th>8</th>\n",
       "      <td>response</td>\n",
       "      <td>0.0</td>\n",
       "      <td>1.0</td>\n",
       "      <td>1.0</td>\n",
       "      <td>0.122563</td>\n",
       "      <td>0.0</td>\n",
       "      <td>0.327935</td>\n",
       "      <td>2.301906e+00</td>\n",
       "      <td>3.298788</td>\n",
       "    </tr>\n",
       "  </tbody>\n",
       "</table>\n",
       "</div>"
      ],
      "text/plain": [
       "             attributes     min       max     range           mean    median            std          skew    kurtosis\n",
       "0                    id     1.0  381109.0  381108.0  190555.000000  190555.0  110016.691870  9.443274e-16   -1.200000\n",
       "1                   age    20.0      85.0      65.0      38.822584      36.0      15.511591  6.725390e-01   -0.565655\n",
       "2       driving_license     0.0       1.0       1.0       0.997869       1.0       0.046109 -2.159518e+01  464.354302\n",
       "3           region_code     0.0      52.0      52.0      26.388807      28.0      13.229871 -1.152664e-01   -0.867857\n",
       "4    previously_insured     0.0       1.0       1.0       0.458210       0.0       0.498251  1.677471e-01   -1.971871\n",
       "5        annual_premium  2630.0  540165.0  537535.0   30564.389581   31669.0   17213.132474  1.766087e+00   34.004569\n",
       "6  policy_sales_channel     1.0     163.0     162.0     112.034295     133.0      54.203924 -9.000081e-01   -0.970810\n",
       "7               vintage    10.0     299.0     289.0     154.347397     154.0      83.671194  3.029517e-03   -1.200688\n",
       "8              response     0.0       1.0       1.0       0.122563       0.0       0.327935  2.301906e+00    3.298788"
      ]
     },
     "execution_count": 13,
     "metadata": {},
     "output_type": "execute_result"
    }
   ],
   "source": [
    "get_summary(num_attributes)"
   ]
  },
  {
   "cell_type": "code",
   "execution_count": 14,
   "id": "perfect-awareness",
   "metadata": {
    "execution": {
     "iopub.execute_input": "2021-02-18T02:48:35.591763Z",
     "iopub.status.busy": "2021-02-18T02:48:35.591649Z",
     "iopub.status.idle": "2021-02-18T02:48:36.498523Z",
     "shell.execute_reply": "2021-02-18T02:48:36.498126Z",
     "shell.execute_reply.started": "2021-02-18T02:48:35.591749Z"
    }
   },
   "outputs": [
    {
     "data": {
      "image/png": "[encoded data removed]",
      "text/plain": [
       "<Figure size 1440x576 with 9 Axes>"
      ]
     },
     "metadata": {},
     "output_type": "display_data"
    }
   ],
   "source": [
    "num_attributes.hist(bins = 25);"
   ]
  },
  {
   "cell_type": "markdown",
   "id": "fantastic-decade",
   "metadata": {},
   "source": [
    "## 1.2 Categorical Attributes"
   ]
  },
  {
   "cell_type": "code",
   "execution_count": 15,
   "id": "incorporated-legislature",
   "metadata": {
    "execution": {
     "iopub.execute_input": "2021-02-18T02:48:36.499187Z",
     "iopub.status.busy": "2021-02-18T02:48:36.499072Z",
     "iopub.status.idle": "2021-02-18T02:48:36.538951Z",
     "shell.execute_reply": "2021-02-18T02:48:36.538501Z",
     "shell.execute_reply.started": "2021-02-18T02:48:36.499173Z"
    }
   },
   "outputs": [
    {
     "data": {
      "text/plain": [
       "gender            2\n",
       "vehicle_age       3\n",
       "vehicle_damage    2\n",
       "dtype: int64"
      ]
     },
     "execution_count": 15,
     "metadata": {},
     "output_type": "execute_result"
    }
   ],
   "source": [
    "cat_attributes.apply( lambda x: x.unique().shape[0] )"
   ]
  },
  {
   "cell_type": "code",
   "execution_count": 16,
   "id": "respiratory-jumping",
   "metadata": {
    "execution": {
     "iopub.execute_input": "2021-02-18T02:48:36.539653Z",
     "iopub.status.busy": "2021-02-18T02:48:36.539528Z",
     "iopub.status.idle": "2021-02-18T02:48:45.080451Z",
     "shell.execute_reply": "2021-02-18T02:48:45.079671Z",
     "shell.execute_reply.started": "2021-02-18T02:48:36.539638Z"
    }
   },
   "outputs": [
    {
     "data": {
      "image/png": "[encoded data removed]",
      "text/plain": [
       "<Figure size 1440x576 with 3 Axes>"
      ]
     },
     "metadata": {},
     "output_type": "display_data"
    }
   ],
   "source": [
    "plt.subplot( 1, 3, 1 )\n",
    "sns.barplot( x='gender', y='response', data=df1 )\n",
    "sns.despine(offset = 10, trim = True)\n",
    "plt.title('Interest in insurance by gender')\n",
    "\n",
    "plt.subplot( 1, 3, 2 )\n",
    "sns.barplot( x='vehicle_age', y='response', data=df1 )\n",
    "sns.despine(offset = 10, trim = True)\n",
    "plt.title('interest in insurance by vehicle age')\n",
    "\n",
    "plt.subplot( 1, 3, 3 )\n",
    "sns.barplot( x='vehicle_damage', y='response', data=df1 )\n",
    "sns.despine(offset = 10, trim = True)\n",
    "plt.title('vehicle damaged in the past');"
   ]
  },
  {
   "cell_type": "markdown",
   "id": "communist-invasion",
   "metadata": {},
   "source": [
    "## 1.3 Target"
   ]
  },
  {
   "cell_type": "code",
   "execution_count": 17,
   "id": "limiting-weather",
   "metadata": {
    "execution": {
     "iopub.execute_input": "2021-02-18T02:48:45.081310Z",
     "iopub.status.busy": "2021-02-18T02:48:45.081179Z",
     "iopub.status.idle": "2021-02-18T02:48:45.087009Z",
     "shell.execute_reply": "2021-02-18T02:48:45.086336Z",
     "shell.execute_reply.started": "2021-02-18T02:48:45.081290Z"
    }
   },
   "outputs": [
    {
     "data": {
      "text/plain": [
       "0    334399\n",
       "1     46710\n",
       "Name: response, dtype: int64"
      ]
     },
     "execution_count": 17,
     "metadata": {},
     "output_type": "execute_result"
    }
   ],
   "source": [
    "df1['response'].value_counts()"
   ]
  },
  {
   "cell_type": "code",
   "execution_count": 18,
   "id": "rising-metadata",
   "metadata": {
    "execution": {
     "iopub.execute_input": "2021-02-18T02:48:45.088210Z",
     "iopub.status.busy": "2021-02-18T02:48:45.088005Z",
     "iopub.status.idle": "2021-02-18T02:48:45.256756Z",
     "shell.execute_reply": "2021-02-18T02:48:45.256264Z",
     "shell.execute_reply.started": "2021-02-18T02:48:45.088184Z"
    }
   },
   "outputs": [
    {
     "data": {
      "image/png": "[encoded data removed]",
      "text/plain": [
       "<Figure size 1440x576 with 1 Axes>"
      ]
     },
     "metadata": {},
     "output_type": "display_data"
    }
   ],
   "source": [
    "sns.histplot(df1, x = 'response')\n",
    "sns.despine(offset = 10, trim = True);"
   ]
  },
  {
   "cell_type": "markdown",
   "id": "answering-garden",
   "metadata": {
    "execution": {
     "iopub.execute_input": "2021-02-15T15:21:06.870295Z",
     "iopub.status.busy": "2021-02-15T15:21:06.870049Z",
     "iopub.status.idle": "2021-02-15T15:21:06.873021Z",
     "shell.execute_reply": "2021-02-15T15:21:06.872445Z",
     "shell.execute_reply.started": "2021-02-15T15:21:06.870265Z"
    }
   },
   "source": [
    "# 2.0 Hypothesis"
   ]
  },
  {
   "cell_type": "markdown",
   "id": "productive-necklace",
   "metadata": {},
   "source": [
    "- People is equaly interested in insurance regardless their gender\n",
    "**FALSE**\n",
    "- The older the vehicle the greater is the interest in acquiring an insurance\n",
    "**TRUE**\n",
    "- If the owner damaged his vehicle before, he is more likely to acquire an insurance\n",
    "**TRUE**\n",
    "- People who has driving license are more interested in insurance\n",
    "**TRUE**\n",
    "- Different regions have different interesst in insurance\n",
    "**TRUE**\n",
    "- Different policy sales channel have different outcome for the customer\n",
    "**TRUE**\n",
    "- Who was previosly insured is less likely to acquire a new insurance service (had already showed commitment)\n",
    "**TRUE**\n",
    "- The higher Annual Premium, the lower interest in insurance\n",
    "**FALSE**\n",
    "\n",
    "- The higher vintage, the higher interest in insurance\n",
    "**FALSE**\n",
    "\n",
    "- The higher age, the higher interest in insurance\n",
    "**TRUE**"
   ]
  },
  {
   "cell_type": "markdown",
   "id": "knowing-windsor",
   "metadata": {
    "execution": {
     "iopub.execute_input": "2021-02-15T15:30:23.897810Z",
     "iopub.status.busy": "2021-02-15T15:30:23.897602Z",
     "iopub.status.idle": "2021-02-15T15:30:23.900094Z",
     "shell.execute_reply": "2021-02-15T15:30:23.899623Z",
     "shell.execute_reply.started": "2021-02-15T15:30:23.897787Z"
    }
   },
   "source": [
    "# 3.0 Exploratory Data Analysis"
   ]
  },
  {
   "cell_type": "code",
   "execution_count": 19,
   "id": "neither-beginning",
   "metadata": {
    "execution": {
     "iopub.execute_input": "2021-02-18T02:48:45.257701Z",
     "iopub.status.busy": "2021-02-18T02:48:45.257545Z",
     "iopub.status.idle": "2021-02-18T02:48:45.268262Z",
     "shell.execute_reply": "2021-02-18T02:48:45.267880Z",
     "shell.execute_reply.started": "2021-02-18T02:48:45.257681Z"
    }
   },
   "outputs": [],
   "source": [
    "df2 = df1.copy()"
   ]
  },
  {
   "cell_type": "markdown",
   "id": "funny-genius",
   "metadata": {},
   "source": [
    "## 3.1 People who has driving license are more interested in insurance"
   ]
  },
  {
   "cell_type": "code",
   "execution_count": 20,
   "id": "alleged-significance",
   "metadata": {
    "execution": {
     "iopub.execute_input": "2021-02-18T02:48:45.268967Z",
     "iopub.status.busy": "2021-02-18T02:48:45.268860Z",
     "iopub.status.idle": "2021-02-18T02:48:45.283373Z",
     "shell.execute_reply": "2021-02-18T02:48:45.282851Z",
     "shell.execute_reply.started": "2021-02-18T02:48:45.268953Z"
    }
   },
   "outputs": [],
   "source": [
    "df2['driving_license'] = df2['driving_license'].map({1: 'Yes', 0: 'No'})"
   ]
  },
  {
   "cell_type": "code",
   "execution_count": 21,
   "id": "genuine-preparation",
   "metadata": {
    "execution": {
     "iopub.execute_input": "2021-02-18T02:48:45.284620Z",
     "iopub.status.busy": "2021-02-18T02:48:45.284323Z",
     "iopub.status.idle": "2021-02-18T02:48:48.096080Z",
     "shell.execute_reply": "2021-02-18T02:48:48.095619Z",
     "shell.execute_reply.started": "2021-02-18T02:48:45.284588Z"
    }
   },
   "outputs": [
    {
     "data": {
      "image/png": "[encoded data removed]",
      "text/plain": [
       "<Figure size 1440x576 with 1 Axes>"
      ]
     },
     "metadata": {},
     "output_type": "display_data"
    }
   ],
   "source": [
    "sns.barplot(x = 'driving_license', y = 'response', data = df2)\n",
    "sns.despine(offset = 10, trim = True)\n",
    "plt.title('Driving license and interest in insurance'); "
   ]
  },
  {
   "cell_type": "markdown",
   "id": "clear-cartridge",
   "metadata": {},
   "source": [
    "## 3.2 Different regions have different interest in insurance"
   ]
  },
  {
   "cell_type": "code",
   "execution_count": 38,
   "id": "radio-window",
   "metadata": {
    "execution": {
     "iopub.execute_input": "2021-02-18T02:54:32.260330Z",
     "iopub.status.busy": "2021-02-18T02:54:32.260089Z",
     "iopub.status.idle": "2021-02-18T02:54:32.536299Z",
     "shell.execute_reply": "2021-02-18T02:54:32.535846Z",
     "shell.execute_reply.started": "2021-02-18T02:54:32.260303Z"
    }
   },
   "outputs": [
    {
     "data": {
      "text/html": [
       "<div>\n",
       "<style scoped>\n",
       "    .dataframe tbody tr th:only-of-type {\n",
       "        vertical-align: middle;\n",
       "    }\n",
       "\n",
       "    .dataframe tbody tr th {\n",
       "        vertical-align: top;\n",
       "    }\n",
       "\n",
       "    .dataframe thead th {\n",
       "        text-align: right;\n",
       "    }\n",
       "</style>\n",
       "<table border=\"1\" class=\"dataframe\">\n",
       "  <thead>\n",
       "    <tr style=\"text-align: right;\">\n",
       "      <th></th>\n",
       "      <th>0</th>\n",
       "      <th>1</th>\n",
       "      <th>2</th>\n",
       "      <th>3</th>\n",
       "      <th>4</th>\n",
       "      <th>5</th>\n",
       "      <th>6</th>\n",
       "      <th>7</th>\n",
       "      <th>8</th>\n",
       "      <th>9</th>\n",
       "      <th>10</th>\n",
       "      <th>11</th>\n",
       "      <th>12</th>\n",
       "      <th>13</th>\n",
       "      <th>14</th>\n",
       "    </tr>\n",
       "  </thead>\n",
       "  <tbody>\n",
       "    <tr>\n",
       "      <th>region_code</th>\n",
       "      <td>28.0</td>\n",
       "      <td>8.0</td>\n",
       "      <td>41.0</td>\n",
       "      <td>46.0</td>\n",
       "      <td>29.0</td>\n",
       "      <td>3.0</td>\n",
       "      <td>11.0</td>\n",
       "      <td>15.0</td>\n",
       "      <td>30.0</td>\n",
       "      <td>35.0</td>\n",
       "      <td>33.0</td>\n",
       "      <td>36.0</td>\n",
       "      <td>18.0</td>\n",
       "      <td>47.0</td>\n",
       "      <td>50.0</td>\n",
       "    </tr>\n",
       "    <tr>\n",
       "      <th>response</th>\n",
       "      <td>19917.0</td>\n",
       "      <td>3257.0</td>\n",
       "      <td>2224.0</td>\n",
       "      <td>2032.0</td>\n",
       "      <td>1365.0</td>\n",
       "      <td>1181.0</td>\n",
       "      <td>1041.0</td>\n",
       "      <td>958.0</td>\n",
       "      <td>900.0</td>\n",
       "      <td>865.0</td>\n",
       "      <td>760.0</td>\n",
       "      <td>703.0</td>\n",
       "      <td>678.0</td>\n",
       "      <td>652.0</td>\n",
       "      <td>642.0</td>\n",
       "    </tr>\n",
       "  </tbody>\n",
       "</table>\n",
       "</div>"
      ],
      "text/plain": [
       "                  0       1       2       3       4       5       6      7      8      9      10     11     12     13     14\n",
       "region_code     28.0     8.0    41.0    46.0    29.0     3.0    11.0   15.0   30.0   35.0   33.0   36.0   18.0   47.0   50.0\n",
       "response     19917.0  3257.0  2224.0  2032.0  1365.0  1181.0  1041.0  958.0  900.0  865.0  760.0  703.0  678.0  652.0  642.0"
      ]
     },
     "execution_count": 38,
     "metadata": {},
     "output_type": "execute_result"
    },
    {
     "data": {
      "image/png": "[encoded data removed]",
      "text/plain": [
       "<Figure size 1440x576 with 1 Axes>"
      ]
     },
     "metadata": {},
     "output_type": "display_data"
    }
   ],
   "source": [
    "aux = df2[['region_code', 'response']].groupby('region_code').sum().sort_values(by = 'response', ascending = False).reset_index() \n",
    "sns.barplot(x = 'region_code', y = 'response', data = aux, order = aux['region_code'].head(30))\n",
    "sns.despine(offset = 10, trim = True)\n",
    "aux.head(15).T"
   ]
  },
  {
   "cell_type": "markdown",
   "id": "usual-deposit",
   "metadata": {},
   "source": [
    "## 3.3 Different policy sales channel have different outcome for the customer"
   ]
  },
  {
   "cell_type": "code",
   "execution_count": 36,
   "id": "junior-customs",
   "metadata": {
    "execution": {
     "iopub.execute_input": "2021-02-18T02:53:22.961306Z",
     "iopub.status.busy": "2021-02-18T02:53:22.961106Z",
     "iopub.status.idle": "2021-02-18T02:53:23.239456Z",
     "shell.execute_reply": "2021-02-18T02:53:23.238886Z",
     "shell.execute_reply.started": "2021-02-18T02:53:22.961284Z"
    }
   },
   "outputs": [
    {
     "data": {
      "text/html": [
       "<div>\n",
       "<style scoped>\n",
       "    .dataframe tbody tr th:only-of-type {\n",
       "        vertical-align: middle;\n",
       "    }\n",
       "\n",
       "    .dataframe tbody tr th {\n",
       "        vertical-align: top;\n",
       "    }\n",
       "\n",
       "    .dataframe thead th {\n",
       "        text-align: right;\n",
       "    }\n",
       "</style>\n",
       "<table border=\"1\" class=\"dataframe\">\n",
       "  <thead>\n",
       "    <tr style=\"text-align: right;\">\n",
       "      <th></th>\n",
       "      <th>0</th>\n",
       "      <th>1</th>\n",
       "      <th>2</th>\n",
       "      <th>3</th>\n",
       "      <th>4</th>\n",
       "      <th>5</th>\n",
       "      <th>6</th>\n",
       "      <th>7</th>\n",
       "      <th>8</th>\n",
       "      <th>9</th>\n",
       "      <th>10</th>\n",
       "      <th>11</th>\n",
       "      <th>12</th>\n",
       "      <th>13</th>\n",
       "      <th>14</th>\n",
       "    </tr>\n",
       "  </thead>\n",
       "  <tbody>\n",
       "    <tr>\n",
       "      <th>policy_sales_channel</th>\n",
       "      <td>26.0</td>\n",
       "      <td>124.0</td>\n",
       "      <td>152.0</td>\n",
       "      <td>156.0</td>\n",
       "      <td>157.0</td>\n",
       "      <td>122.0</td>\n",
       "      <td>154.0</td>\n",
       "      <td>163.0</td>\n",
       "      <td>160.0</td>\n",
       "      <td>155.0</td>\n",
       "      <td>25.0</td>\n",
       "      <td>13.0</td>\n",
       "      <td>55.0</td>\n",
       "      <td>7.0</td>\n",
       "      <td>31.0</td>\n",
       "    </tr>\n",
       "    <tr>\n",
       "      <th>response</th>\n",
       "      <td>15891.0</td>\n",
       "      <td>13996.0</td>\n",
       "      <td>3858.0</td>\n",
       "      <td>2297.0</td>\n",
       "      <td>1794.0</td>\n",
       "      <td>1720.0</td>\n",
       "      <td>1474.0</td>\n",
       "      <td>880.0</td>\n",
       "      <td>475.0</td>\n",
       "      <td>395.0</td>\n",
       "      <td>369.0</td>\n",
       "      <td>275.0</td>\n",
       "      <td>189.0</td>\n",
       "      <td>182.0</td>\n",
       "      <td>160.0</td>\n",
       "    </tr>\n",
       "  </tbody>\n",
       "</table>\n",
       "</div>"
      ],
      "text/plain": [
       "                           0        1       2       3       4       5       6      7      8      9      10     11     12     13     14\n",
       "policy_sales_channel     26.0    124.0   152.0   156.0   157.0   122.0   154.0  163.0  160.0  155.0   25.0   13.0   55.0    7.0   31.0\n",
       "response              15891.0  13996.0  3858.0  2297.0  1794.0  1720.0  1474.0  880.0  475.0  395.0  369.0  275.0  189.0  182.0  160.0"
      ]
     },
     "execution_count": 36,
     "metadata": {},
     "output_type": "execute_result"
    },
    {
     "data": {
      "image/png": "[encoded data removed]",
      "text/plain": [
       "<Figure size 1440x576 with 1 Axes>"
      ]
     },
     "metadata": {},
     "output_type": "display_data"
    }
   ],
   "source": [
    "aux = df2[['policy_sales_channel', 'response']].groupby('policy_sales_channel').sum().sort_values(by = 'response', ascending = False).reset_index() \n",
    "sns.barplot(x = 'policy_sales_channel', y = 'response', data = aux.head(30), order = aux['policy_sales_channel'].head(30))\n",
    "sns.despine(offset = 10, trim = True);\n",
    "aux.head(15).T"
   ]
  },
  {
   "cell_type": "markdown",
   "id": "agricultural-debut",
   "metadata": {
    "execution": {
     "iopub.execute_input": "2021-02-15T17:53:12.856694Z",
     "iopub.status.busy": "2021-02-15T17:53:12.856446Z",
     "iopub.status.idle": "2021-02-15T17:53:12.859536Z",
     "shell.execute_reply": "2021-02-15T17:53:12.858904Z",
     "shell.execute_reply.started": "2021-02-15T17:53:12.856667Z"
    }
   },
   "source": [
    "## 3.4 Who was previosly insured is less likely to acquire a new insurance service"
   ]
  },
  {
   "cell_type": "code",
   "execution_count": null,
   "id": "square-pattern",
   "metadata": {
    "execution": {
     "iopub.status.busy": "2021-02-18T02:48:48.873191Z",
     "iopub.status.idle": "2021-02-18T02:48:48.873405Z",
     "shell.execute_reply": "2021-02-18T02:48:48.873300Z"
    }
   },
   "outputs": [],
   "source": [
    "df2['previously_insured'] = df2['previously_insured'].map({1: 'Yes', 0: 'No'})"
   ]
  },
  {
   "cell_type": "code",
   "execution_count": null,
   "id": "humanitarian-desktop",
   "metadata": {
    "execution": {
     "iopub.status.busy": "2021-02-18T02:48:48.874209Z",
     "iopub.status.idle": "2021-02-18T02:48:48.874451Z",
     "shell.execute_reply": "2021-02-18T02:48:48.874328Z"
    }
   },
   "outputs": [],
   "source": [
    "sns.barplot(x = 'previously_insured', y = 'response', data = df2)\n",
    "sns.despine(offset = 10, trim = True)\n",
    "plt.title('Previously insured and interest in insurance');\n",
    "\n",
    "df2['previously_insured'].value_counts()"
   ]
  },
  {
   "cell_type": "markdown",
   "id": "engaging-peter",
   "metadata": {},
   "source": [
    "## 3.5 The higher Annual Premium, the lower interest in insurance"
   ]
  },
  {
   "cell_type": "code",
   "execution_count": null,
   "id": "owned-switch",
   "metadata": {
    "execution": {
     "iopub.status.busy": "2021-02-18T02:48:48.875159Z",
     "iopub.status.idle": "2021-02-18T02:48:48.875402Z",
     "shell.execute_reply": "2021-02-18T02:48:48.875278Z"
    }
   },
   "outputs": [],
   "source": [
    "aux1 = df2[df2['response'] == 1]\n",
    "aux2 = df2[df2['response'] == 0]\n",
    "\n",
    "x = aux1['annual_premium'].mean()\n",
    "y = aux2['annual_premium'].mean()\n",
    "\n",
    "print('Annual premium interested     (mean):', x)\n",
    "print('Annual premium not interested (mean):', y)"
   ]
  },
  {
   "cell_type": "code",
   "execution_count": null,
   "id": "subtle-teddy",
   "metadata": {
    "execution": {
     "iopub.status.busy": "2021-02-18T02:48:48.876077Z",
     "iopub.status.idle": "2021-02-18T02:48:48.876349Z",
     "shell.execute_reply": "2021-02-18T02:48:48.876222Z"
    }
   },
   "outputs": [],
   "source": [
    "aux3 = df2[df2['annual_premium'] > 3000]\n",
    "\n",
    "sns.histplot(aux3, x=\"annual_premium\", hue=\"response\", kde = True)\n",
    "sns.despine(offset = 10, trim = True);"
   ]
  },
  {
   "cell_type": "code",
   "execution_count": null,
   "id": "featured-token",
   "metadata": {
    "execution": {
     "iopub.status.busy": "2021-02-18T02:48:48.877030Z",
     "iopub.status.idle": "2021-02-18T02:48:48.877290Z",
     "shell.execute_reply": "2021-02-18T02:48:48.877164Z"
    }
   },
   "outputs": [],
   "source": [
    "aux3 = df2[df2['annual_premium'] < 80000]\n",
    "sns.boxplot(x = 'response',y = 'annual_premium', data = aux3)\n",
    "sns.despine(offset = 10, trim = True);"
   ]
  },
  {
   "cell_type": "markdown",
   "id": "domestic-campbell",
   "metadata": {},
   "source": [
    "## 3.6 The higher vintage, the higher interest in insurance"
   ]
  },
  {
   "cell_type": "code",
   "execution_count": null,
   "id": "selected-zealand",
   "metadata": {
    "execution": {
     "iopub.status.busy": "2021-02-18T02:48:48.877990Z",
     "iopub.status.idle": "2021-02-18T02:48:48.878264Z",
     "shell.execute_reply": "2021-02-18T02:48:48.878133Z"
    }
   },
   "outputs": [],
   "source": [
    "x = aux1['vintage'].mean()\n",
    "y = aux2['vintage'].mean()\n",
    "\n",
    "print('vintage of interested     (mean):', x)\n",
    "print('vintage of not interested (mean):', y)"
   ]
  },
  {
   "cell_type": "code",
   "execution_count": null,
   "id": "speaking-upper",
   "metadata": {
    "execution": {
     "iopub.status.busy": "2021-02-18T02:48:48.879020Z",
     "iopub.status.idle": "2021-02-18T02:48:48.879296Z",
     "shell.execute_reply": "2021-02-18T02:48:48.879168Z"
    }
   },
   "outputs": [],
   "source": [
    "sns.boxplot(x = 'response', y = 'vintage', data = df2)\n",
    "sns.despine(offset = 10, trim = True);"
   ]
  },
  {
   "cell_type": "markdown",
   "id": "horizontal-adams",
   "metadata": {},
   "source": [
    "## 3.7 - The higher age, the higher interest in insurance"
   ]
  },
  {
   "cell_type": "code",
   "execution_count": null,
   "id": "developing-worry",
   "metadata": {
    "execution": {
     "iopub.status.busy": "2021-02-18T02:48:48.879981Z",
     "iopub.status.idle": "2021-02-18T02:48:48.880254Z",
     "shell.execute_reply": "2021-02-18T02:48:48.880126Z"
    }
   },
   "outputs": [],
   "source": [
    "x = aux1['age'].mean()\n",
    "y = aux2['age'].mean()\n",
    "\n",
    "print('age of interested     (mean):', x)\n",
    "print('age of not interested (mean):', y)"
   ]
  },
  {
   "cell_type": "code",
   "execution_count": null,
   "id": "guided-christianity",
   "metadata": {
    "execution": {
     "iopub.status.busy": "2021-02-18T02:48:48.881010Z",
     "iopub.status.idle": "2021-02-18T02:48:48.881288Z",
     "shell.execute_reply": "2021-02-18T02:48:48.881162Z"
    }
   },
   "outputs": [],
   "source": [
    "sns.boxplot(x = 'response', y = 'age', data = df2);\n",
    "sns.despine(offset = 10, trim = True)"
   ]
  },
  {
   "cell_type": "markdown",
   "id": "rolled-cambodia",
   "metadata": {},
   "source": [
    "# 4.0 Bivariate Analysis"
   ]
  },
  {
   "cell_type": "code",
   "execution_count": null,
   "id": "extensive-worcester",
   "metadata": {},
   "outputs": [],
   "source": []
  },
  {
   "cell_type": "markdown",
   "id": "forward-monitor",
   "metadata": {},
   "source": [
    "## "
   ]
  }
 ],
 "metadata": {
  "kernelspec": {
   "display_name": "Python 3",
   "language": "python",
   "name": "python3"
  },
  "language_info": {
   "codemirror_mode": {
    "name": "ipython",
    "version": 3
   },
   "file_extension": ".py",
   "mimetype": "text/x-python",
   "name": "python",
   "nbconvert_exporter": "python",
   "pygments_lexer": "ipython3",
   "version": "3.8.0"
  }
 },
 "nbformat": 4,
 "nbformat_minor": 5
}
